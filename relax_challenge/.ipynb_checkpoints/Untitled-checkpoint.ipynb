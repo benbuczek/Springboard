{
 "cells": [
  {
   "cell_type": "code",
   "execution_count": 1,
   "id": "7d11c978-4838-43d7-bbe2-1fc5d74cc57e",
   "metadata": {},
   "outputs": [
    {
     "name": "stdout",
     "output_type": "stream",
     "text": [
      "   object_id        creation_time               name  \\\n",
      "0          1  2014-04-22 03:53:30     Clausen August   \n",
      "1          2  2013-11-15 03:45:04      Poole Matthew   \n",
      "2          3  2013-03-19 23:14:52  Bottrill Mitchell   \n",
      "3          4  2013-05-21 08:09:28    Clausen Nicklas   \n",
      "4          5  2013-01-17 10:14:20          Raw Grace   \n",
      "\n",
      "                        email creation_source  last_session_creation_time  \\\n",
      "0    AugustCClausen@yahoo.com    GUEST_INVITE                1.398139e+09   \n",
      "1      MatthewPoole@gustr.com      ORG_INVITE                1.396238e+09   \n",
      "2  MitchellBottrill@gustr.com      ORG_INVITE                1.363735e+09   \n",
      "3   NicklasSClausen@yahoo.com    GUEST_INVITE                1.369210e+09   \n",
      "4          GraceRaw@yahoo.com    GUEST_INVITE                1.358850e+09   \n",
      "\n",
      "   opted_in_to_mailing_list  enabled_for_marketing_drip  org_id  \\\n",
      "0                         1                           0      11   \n",
      "1                         0                           0       1   \n",
      "2                         0                           0      94   \n",
      "3                         0                           0       1   \n",
      "4                         0                           0     193   \n",
      "\n",
      "   invited_by_user_id  \n",
      "0             10803.0  \n",
      "1               316.0  \n",
      "2              1525.0  \n",
      "3              5151.0  \n",
      "4              5240.0  \n"
     ]
    }
   ],
   "source": [
    "import pandas as pd\n",
    "\n",
    "try:\n",
    "    users = pd.read_csv(r'C:\\Users\\BenBuczek\\OneDrive - KIPP New Orleans, Inc\\Desktop\\Springboard\\relax_challenge\\takehome_users.csv', encoding='utf-8')\n",
    "except UnicodeDecodeError:\n",
    "    try:\n",
    "        users = pd.read_csv(r'C:\\Users\\BenBuczek\\OneDrive - KIPP New Orleans, Inc\\Desktop\\Springboard\\relax_challenge\\takehome_users.csv', encoding='latin1')\n",
    "    except UnicodeDecodeError:\n",
    "        users = pd.read_csv(r'C:\\Users\\BenBuczek\\OneDrive - KIPP New Orleans, Inc\\Desktop\\Springboard\\relax_challenge\\takehome_users.csv', encoding='windows-1252')\n",
    "\n",
    "print(users.head())"
   ]
  },
  {
   "cell_type": "code",
   "execution_count": 2,
   "id": "cc444b71-2cd7-4f35-8a18-a94171738274",
   "metadata": {},
   "outputs": [
    {
     "name": "stdout",
     "output_type": "stream",
     "text": [
      "            time_stamp  user_id  visited\n",
      "0  2014-04-22 03:53:30        1        1\n",
      "1  2013-11-15 03:45:04        2        1\n",
      "2  2013-11-29 03:45:04        2        1\n",
      "3  2013-12-09 03:45:04        2        1\n",
      "4  2013-12-25 03:45:04        2        1\n"
     ]
    }
   ],
   "source": [
    "user_engagement = pd.read_csv(r'C:\\Users\\BenBuczek\\OneDrive - KIPP New Orleans, Inc\\Desktop\\Springboard\\relax_challenge\\takehome_user_engagement.csv')\n",
    "print(user_engagement.head())"
   ]
  },
  {
   "cell_type": "code",
   "execution_count": 3,
   "id": "72cfad5a-12ac-475d-a4e9-b899969d38c8",
   "metadata": {},
   "outputs": [],
   "source": [
    "import pandas as pd\n",
    "from datetime import timedelta\n",
    "\n",
    "user_engagement['time_stamp'] = pd.to_datetime(user_engagement['time_stamp'])\n",
    "\n",
    "def get_adopted_users(df):\n",
    "    df['week'] = df['time_stamp'].dt.to_period('W')\n",
    "    weekly_logins = df.groupby(['user_id', 'week']).time_stamp.nunique()\n",
    "    adopted_users = weekly_logins[weekly_logins >= 3].reset_index().user_id.unique()\n",
    "    return adopted_users\n",
    "\n",
    "adopted_users = get_adopted_users(user_engagement)"
   ]
  },
  {
   "cell_type": "code",
   "execution_count": 4,
   "id": "ff8f9716-d5a2-4e15-bc87-708fc949167e",
   "metadata": {},
   "outputs": [],
   "source": [
    "users['is_adopted'] = users['object_id'].isin(adopted_users).astype(int)"
   ]
  },
  {
   "cell_type": "code",
   "execution_count": 5,
   "id": "6092ecf2-87b2-4b1b-9e5f-30c9640538fa",
   "metadata": {},
   "outputs": [
    {
     "name": "stderr",
     "output_type": "stream",
     "text": [
      "C:\\Users\\BenBuczek\\anaconda3\\Lib\\site-packages\\pandas\\core\\tools\\datetimes.py:557: RuntimeWarning: invalid value encountered in cast\n",
      "  arr, tz_parsed = tslib.array_with_unit_to_datetime(arg, unit, errors=errors)\n"
     ]
    }
   ],
   "source": [
    "users['creation_time'] = pd.to_datetime(users['creation_time'])\n",
    "users['last_session_creation_time'] = pd.to_datetime(users['last_session_creation_time'], unit='s')\n",
    "\n",
    "users['account_age'] = (pd.to_datetime('today') - users['creation_time']).dt.days\n",
    "users['days_since_last_session'] = (pd.to_datetime('today') - users['last_session_creation_time']).dt.days\n",
    "\n",
    "users = pd.get_dummies(users, columns=['creation_source'])"
   ]
  },
  {
   "cell_type": "code",
   "execution_count": 6,
   "id": "fd68114b-a0b3-43ae-af5c-f19c9e493299",
   "metadata": {},
   "outputs": [
    {
     "name": "stdout",
     "output_type": "stream",
     "text": [
      "              precision    recall  f1-score   support\n",
      "\n",
      "           0       0.88      1.00      0.94      2108\n",
      "           1       0.00      0.00      0.00       292\n",
      "\n",
      "    accuracy                           0.88      2400\n",
      "   macro avg       0.44      0.50      0.47      2400\n",
      "weighted avg       0.77      0.88      0.82      2400\n",
      "\n"
     ]
    },
    {
     "name": "stderr",
     "output_type": "stream",
     "text": [
      "C:\\Users\\BenBuczek\\anaconda3\\Lib\\site-packages\\sklearn\\metrics\\_classification.py:1344: UndefinedMetricWarning: Precision and F-score are ill-defined and being set to 0.0 in labels with no predicted samples. Use `zero_division` parameter to control this behavior.\n",
      "  _warn_prf(average, modifier, msg_start, len(result))\n",
      "C:\\Users\\BenBuczek\\anaconda3\\Lib\\site-packages\\sklearn\\metrics\\_classification.py:1344: UndefinedMetricWarning: Precision and F-score are ill-defined and being set to 0.0 in labels with no predicted samples. Use `zero_division` parameter to control this behavior.\n",
      "  _warn_prf(average, modifier, msg_start, len(result))\n",
      "C:\\Users\\BenBuczek\\anaconda3\\Lib\\site-packages\\sklearn\\metrics\\_classification.py:1344: UndefinedMetricWarning: Precision and F-score are ill-defined and being set to 0.0 in labels with no predicted samples. Use `zero_division` parameter to control this behavior.\n",
      "  _warn_prf(average, modifier, msg_start, len(result))\n"
     ]
    }
   ],
   "source": [
    "from sklearn.model_selection import train_test_split\n",
    "from sklearn.linear_model import LogisticRegression\n",
    "from sklearn.metrics import classification_report\n",
    "\n",
    "features = ['opted_in_to_mailing_list', 'enabled_for_marketing_drip', 'account_age', 'days_since_last_session'] + [col for col in users if col.startswith('creation_source_')]\n",
    "X = users[features].fillna(0)\n",
    "y = users['is_adopted']\n",
    "\n",
    "X_train, X_test, y_train, y_test = train_test_split(X, y, test_size=0.2, random_state=42)\n",
    "\n",
    "model = LogisticRegression()\n",
    "model.fit(X_train, y_train)\n",
    "\n",
    "predictions = model.predict(X_test)\n",
    "print(classification_report(y_test, predictions))"
   ]
  },
  {
   "cell_type": "code",
   "execution_count": null,
   "id": "7b3c4d1f-0fe5-402a-9e15-8119a24fe828",
   "metadata": {},
   "outputs": [],
   "source": []
  }
 ],
 "metadata": {
  "kernelspec": {
   "display_name": "Python 3 (ipykernel)",
   "language": "python",
   "name": "python3"
  },
  "language_info": {
   "codemirror_mode": {
    "name": "ipython",
    "version": 3
   },
   "file_extension": ".py",
   "mimetype": "text/x-python",
   "name": "python",
   "nbconvert_exporter": "python",
   "pygments_lexer": "ipython3",
   "version": "3.11.3"
  }
 },
 "nbformat": 4,
 "nbformat_minor": 5
}
